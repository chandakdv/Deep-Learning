{
 "cells": [
  {
   "cell_type": "markdown",
   "metadata": {},
   "source": [
    "## Colour Detection using DL"
   ]
  },
  {
   "cell_type": "code",
   "execution_count": 60,
   "metadata": {},
   "outputs": [],
   "source": [
    "# Dictionary mapping labels to colors\n",
    "label_colors = {\n",
    "    'label_1': 'brown',\n",
    "    'label_2': 'yellow',\n",
    "    'label_3': 'green',\n",
    "    'label_4': 'orange',\n",
    "    'label_5': 'purple',\n",
    "    'label_6': 'blue',\n",
    "    'label_7': 'black',\n",
    "    'label_8': 'red',\n",
    "    'label_9': 'white',\n",
    "    'label_10': 'grey'\n",
    "}\n",
    "\n"
   ]
  },
  {
   "cell_type": "code",
   "execution_count": 64,
   "metadata": {},
   "outputs": [
    {
     "name": "stdout",
     "output_type": "stream",
     "text": [
      "1/1 [==============================] - 0s 166ms/step\n",
      "Predicted class label: label_2, Corresponding color: yellow\n"
     ]
    }
   ],
   "source": [
    "# Function to make predictions on a single image and print the predicted class label with its corresponding color\n",
    "def predict_image_and_print_label_with_color(model2, image_path, class_labels, label_colors):\n",
    "    predictions = predict_image(model2, image_path)\n",
    "    predicted_class_index = np.argmax(predictions)\n",
    "    predicted_class_label = class_labels[predicted_class_index]\n",
    "    predicted_class_color = label_colors.get(predicted_class_label)  # Get the color for the predicted label, default to black if not found\n",
    "    print(f\"Predicted class label: {predicted_class_label}, Corresponding color: {predicted_class_color}\")\n",
    "\n",
    "# Example usage:\n",
    "image_path = \"C:/Users/titik/OneDrive/Desktop/6th sem/DLL/Lab/Project/yellow/yello9.jpg\"# Replace with the path to your violet image\n",
    "predict_image_and_print_label_with_color(model2, image_path, class_labels, label_colors)\n"
   ]
  },
  {
   "cell_type": "code",
   "execution_count": null,
   "metadata": {},
   "outputs": [],
   "source": [
    "#\"C:/Users/titik/OneDrive/Desktop/6th sem/DLL/Lab/Project/yellow/yello9.jpg\"2\n",
    "#\"C:/Users/titik/OneDrive/Desktop/6th sem/DLL/Lab/Project/black/black20.png\"7\n",
    "# \"C:/Users/titik/OneDrive/Desktop/6th sem/DLL/Lab/Project/blue/blue2 (2).jpg\"6"
   ]
  }
 ],
 "metadata": {
  "kernelspec": {
   "display_name": "Python 3 (ipykernel)",
   "language": "python",
   "name": "python3"
  },
  "language_info": {
   "codemirror_mode": {
    "name": "ipython",
    "version": 3
   },
   "file_extension": ".py",
   "mimetype": "text/x-python",
   "name": "python",
   "nbconvert_exporter": "python",
   "pygments_lexer": "ipython3",
   "version": "3.10.13"
  },
  "vscode": {
   "interpreter": {
    "hash": "f6becb90ea85e501e0c5dc0cf472a45ace99c50f8d1426b3da8c341d18623653"
   }
  }
 },
 "nbformat": 4,
 "nbformat_minor": 4
}
