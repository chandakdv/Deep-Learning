{
 "cells": [
  {
   "cell_type": "code",
   "execution_count": 1,
   "id": "4d55fb41-dff8-4c33-9bd3-bc804c593198",
   "metadata": {},
   "outputs": [
    {
     "name": "stdout",
     "output_type": "stream",
     "text": [
      "WARNING:tensorflow:From C:\\Users\\titik\\anaconda3\\lib\\site-packages\\keras\\src\\losses.py:2976: The name tf.losses.sparse_softmax_cross_entropy is deprecated. Please use tf.compat.v1.losses.sparse_softmax_cross_entropy instead.\n",
      "\n",
      "Downloading data from https://storage.googleapis.com/tensorflow/tf-keras-datasets/mnist.npz\n",
      "11490434/11490434 [==============================] - 17s 1us/step\n",
      "WARNING:tensorflow:From C:\\Users\\titik\\anaconda3\\lib\\site-packages\\keras\\src\\backend.py:873: The name tf.get_default_graph is deprecated. Please use tf.compat.v1.get_default_graph instead.\n",
      "\n",
      "WARNING:tensorflow:From C:\\Users\\titik\\anaconda3\\lib\\site-packages\\keras\\src\\optimizers\\__init__.py:309: The name tf.train.Optimizer is deprecated. Please use tf.compat.v1.train.Optimizer instead.\n",
      "\n",
      "Epoch 1/10\n",
      "WARNING:tensorflow:From C:\\Users\\titik\\anaconda3\\lib\\site-packages\\keras\\src\\utils\\tf_utils.py:492: The name tf.ragged.RaggedTensorValue is deprecated. Please use tf.compat.v1.ragged.RaggedTensorValue instead.\n",
      "\n",
      "WARNING:tensorflow:From C:\\Users\\titik\\anaconda3\\lib\\site-packages\\keras\\src\\engine\\base_layer_utils.py:384: The name tf.executing_eagerly_outside_functions is deprecated. Please use tf.compat.v1.executing_eagerly_outside_functions instead.\n",
      "\n",
      "1688/1688 [==============================] - 12s 6ms/step - loss: 0.7605 - accuracy: 0.7913 - val_loss: 0.3088 - val_accuracy: 0.9143\n",
      "Epoch 2/10\n",
      "1688/1688 [==============================] - 9s 5ms/step - loss: 0.3348 - accuracy: 0.9037 - val_loss: 0.2555 - val_accuracy: 0.9272\n",
      "Epoch 3/10\n",
      "1688/1688 [==============================] - 8s 5ms/step - loss: 0.2828 - accuracy: 0.9181 - val_loss: 0.2222 - val_accuracy: 0.9337\n",
      "Epoch 4/10\n",
      "1688/1688 [==============================] - 9s 5ms/step - loss: 0.2488 - accuracy: 0.9281 - val_loss: 0.1912 - val_accuracy: 0.9455\n",
      "Epoch 5/10\n",
      "1688/1688 [==============================] - 9s 5ms/step - loss: 0.2227 - accuracy: 0.9362 - val_loss: 0.1743 - val_accuracy: 0.9510\n",
      "Epoch 6/10\n",
      "1688/1688 [==============================] - 9s 5ms/step - loss: 0.2013 - accuracy: 0.9423 - val_loss: 0.1588 - val_accuracy: 0.9553\n",
      "Epoch 7/10\n",
      "1688/1688 [==============================] - 9s 5ms/step - loss: 0.1839 - accuracy: 0.9475 - val_loss: 0.1494 - val_accuracy: 0.9592\n",
      "Epoch 8/10\n",
      "1688/1688 [==============================] - 8s 5ms/step - loss: 0.1683 - accuracy: 0.9518 - val_loss: 0.1371 - val_accuracy: 0.9630\n",
      "Epoch 9/10\n",
      "1688/1688 [==============================] - 9s 5ms/step - loss: 0.1551 - accuracy: 0.9557 - val_loss: 0.1274 - val_accuracy: 0.9638\n",
      "Epoch 10/10\n",
      "1688/1688 [==============================] - 9s 5ms/step - loss: 0.1437 - accuracy: 0.9590 - val_loss: 0.1209 - val_accuracy: 0.9675\n",
      "313/313 [==============================] - 2s 6ms/step - loss: 0.1453 - accuracy: 0.9576\n",
      "Test Accuracy: 0.9576\n"
     ]
    }
   ],
   "source": [
    "import numpy as np\n",
    "from tensorflow import keras\n",
    "from tensorflow.keras import layers\n",
    "# Step 1: Load the MNIST dataset\n",
    "(X_train, y_train), (X_test, y_test) = keras.datasets.mnist.load_data()\n",
    "# Step 2: Preprocess the data\n",
    "# Normalize the input data\n",
    "X_train = X_train / 255.0\n",
    "X_test = X_test / 255.0\n",
    "# Step 3: Define the model architecture\n",
    "def create_model(hidden_layers=1, neurons=64, activation='relu', input_shape=(28, 28)):\n",
    "    model = keras.Sequential()\n",
    "    model.add(keras.layers.Flatten(input_shape=input_shape)) # Flatten the input\n",
    "    for _ in range(hidden_layers):\n",
    "        model.add(layers.Dense(neurons, activation=activation)) # Add hidden layers\n",
    "    model.add(layers.Dense(10, activation='softmax')) # Output layer with softmax activation\n",
    "    return model\n",
    "# Example: Create a model with 2 hidden layers, 64 neurons each, using ReLU activation\n",
    "model = create_model(hidden_layers=2, neurons=64, activation='relu', input_shape=(28, 28))\n",
    "# Step 4: Compile the model\n",
    "model.compile(optimizer='sgd', # Stochastic Gradient Descent\n",
    "loss='sparse_categorical_crossentropy', # Loss function for integers\n",
    "metrics=['accuracy'])\n",
    "# Step 5: Train the model\n",
    "history = model.fit(X_train, y_train, epochs=10, validation_split=0.1)\n",
    "# Step 6: Evaluate the model on the test set\n",
    "test_loss, test_acc = model.evaluate(X_test, y_test)\n",
    "print(f\"Test Accuracy: {test_acc:.4f}\")"
   ]
  },
  {
   "cell_type": "code",
   "execution_count": null,
   "id": "0d945393-128e-4745-a7f3-cebfda34cd48",
   "metadata": {},
   "outputs": [],
   "source": []
  }
 ],
 "metadata": {
  "kernelspec": {
   "display_name": "Python 3 (ipykernel)",
   "language": "python",
   "name": "python3"
  },
  "language_info": {
   "codemirror_mode": {
    "name": "ipython",
    "version": 3
   },
   "file_extension": ".py",
   "mimetype": "text/x-python",
   "name": "python",
   "nbconvert_exporter": "python",
   "pygments_lexer": "ipython3",
   "version": "3.10.13"
  }
 },
 "nbformat": 4,
 "nbformat_minor": 5
}
