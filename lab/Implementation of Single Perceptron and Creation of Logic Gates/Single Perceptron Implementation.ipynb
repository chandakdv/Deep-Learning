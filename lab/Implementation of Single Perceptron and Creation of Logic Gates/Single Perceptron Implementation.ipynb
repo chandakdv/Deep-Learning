{
 "cells": [
  {
   "cell_type": "markdown",
   "id": "56b2ed27-7c40-4423-b1a3-bb3c64fa83a9",
   "metadata": {},
   "source": [
    "# Perceptron:\n",
    "### Inspired by neuron, it is a single layer neural network with the unit step function as an activation function.\n",
    "### Activation function helps to create the decision"
   ]
  },
  {
   "cell_type": "code",
   "execution_count": 1,
   "id": "4a9e8f56",
   "metadata": {},
   "outputs": [],
   "source": [
    "x_input =[0.1,0.5,0.2]\n",
    "w_weight=[0.4,0.3,0.6]\n",
    "threshold=0.5"
   ]
  },
  {
   "cell_type": "code",
   "execution_count": 2,
   "id": "ccf4ac06",
   "metadata": {},
   "outputs": [],
   "source": [
    "def perceptron():\n",
    "    weighted_sum = 0\n",
    "    for x,w in zip(x_input,w_weight):\n",
    "        weighted_sum +=x*w\n",
    "        print(weighted_sum)\n",
    "    return step(weighted_sum)"
   ]
  },
  {
   "cell_type": "code",
   "execution_count": 3,
   "id": "45fe2020",
   "metadata": {},
   "outputs": [],
   "source": [
    "def step (weighted_sum):\n",
    "    if weighted_sum > threshold:\n",
    "        return 1\n",
    "    else:\n",
    "        return 0"
   ]
  },
  {
   "cell_type": "code",
   "execution_count": 4,
   "id": "f27f084f",
   "metadata": {},
   "outputs": [
    {
     "name": "stdout",
     "output_type": "stream",
     "text": [
      "0.04000000000000001\n",
      "0.19\n",
      "0.31\n"
     ]
    }
   ],
   "source": [
    "#individual output for each input\n",
    "output=perceptron()"
   ]
  },
  {
   "cell_type": "code",
   "execution_count": 5,
   "id": "008ac5e6",
   "metadata": {},
   "outputs": [
    {
     "name": "stdout",
     "output_type": "stream",
     "text": [
      "output:  0\n"
     ]
    }
   ],
   "source": [
    "print(\"output: \",output)"
   ]
  },
  {
   "cell_type": "code",
   "execution_count": 6,
   "id": "78930025",
   "metadata": {},
   "outputs": [],
   "source": [
    "threshold= 0.3"
   ]
  },
  {
   "cell_type": "code",
   "execution_count": 7,
   "id": "4dfe74b1",
   "metadata": {},
   "outputs": [],
   "source": [
    "def perceptron():\n",
    "    weighted_sum = 0\n",
    "    for x,w in zip(x_input,w_weight):\n",
    "        weighted_sum +=x*w\n",
    "        print(weighted_sum)\n",
    "    return step(weighted_sum)"
   ]
  },
  {
   "cell_type": "code",
   "execution_count": 8,
   "id": "fb9c8ac3",
   "metadata": {},
   "outputs": [],
   "source": [
    "def step (weighted_sum):\n",
    "    if weighted_sum > threshold:\n",
    "        return 1\n",
    "    else:\n",
    "        return 0"
   ]
  },
  {
   "cell_type": "code",
   "execution_count": 9,
   "id": "c43847e0",
   "metadata": {},
   "outputs": [
    {
     "name": "stdout",
     "output_type": "stream",
     "text": [
      "0.04000000000000001\n",
      "0.19\n",
      "0.31\n"
     ]
    }
   ],
   "source": [
    "output=perceptron()"
   ]
  },
  {
   "cell_type": "code",
   "execution_count": 10,
   "id": "aaeb916e",
   "metadata": {},
   "outputs": [
    {
     "name": "stdout",
     "output_type": "stream",
     "text": [
      "output:  1\n"
     ]
    }
   ],
   "source": [
    "print(\"output: \",output)"
   ]
  },
  {
   "cell_type": "code",
   "execution_count": 11,
   "id": "b8fb3a3c",
   "metadata": {},
   "outputs": [],
   "source": [
    "#           x0 ... w0 .\n",
    "#                       .\n",
    "#                         .\n",
    "#           x1 ... w1  . . . summation | F  --> y --> calculate loss --> update weight\n",
    "#                         .                         (loss = n (d-y) x)  (w'= w0 + loss)\n",
    "#                       .                                   \n",
    "#           xn ... wn .\n",
    "# d is desired y value or actual y value"
   ]
  },
  {
   "cell_type": "code",
   "execution_count": 2,
   "id": "41fc215a",
   "metadata": {},
   "outputs": [],
   "source": [
    "x_input =([1,1,1],[1,1,-1],[1,-1,1],[-1,1,1],[1,-1,-1],[-1,1,-1],[-1,-1,1],[-1,-1,-1])\n",
    "threshold=0.5"
   ]
  },
  {
   "cell_type": "code",
   "execution_count": 1,
   "id": "2c896d6a",
   "metadata": {},
   "outputs": [],
   "source": [
    "import numpy as np\n",
    "data_points={\n",
    "    'p0':np.array([1,1,1]),\n",
    "    'p1':np.array([-1,1,1]),\n",
    "    'p2':np.array([1,-1,1]),\n",
    "    'p3':np.array([1,1,-1]),\n",
    "    'p4':np.array([1,-1,-1]),\n",
    "    'p5':np.array([-1,-1,1]),\n",
    "    'p6':np.array([-1,1,-1]),\n",
    "    'p7':np.array([-1,-1,-1]),\n",
    "}"
   ]
  },
  {
   "cell_type": "code",
   "execution_count": 2,
   "id": "f4db19a5",
   "metadata": {},
   "outputs": [],
   "source": [
    "c1=['p0']\n",
    "c2=['p1','p2','p3','p4','p5','p6','p7']"
   ]
  },
  {
   "cell_type": "code",
   "execution_count": 15,
   "id": "6bfdae7d",
   "metadata": {},
   "outputs": [
    {
     "name": "stdout",
     "output_type": "stream",
     "text": [
      "[0. 0. 0.]\n"
     ]
    }
   ],
   "source": [
    "w=np.zeros(len(data_points['p0']))\n",
    "bias=0\n",
    "print(w)"
   ]
  },
  {
   "cell_type": "code",
   "execution_count": 25,
   "id": "d2a5ae56",
   "metadata": {},
   "outputs": [],
   "source": [
    "learning_rate=1\n",
    "epochs=100\n",
    "for epoch in range(epochs):\n",
    "    for point in c2:\n",
    "        x=data_points[point]\n",
    "        y=1 #c2 is positive class\n",
    "        \n",
    "        summation=np.dot(w,x)+bias\n",
    "        \n",
    "        if summation <= 0:\n",
    "            w += learning_rate * x\n",
    "            bias += learning_rate"
   ]
  },
  {
   "cell_type": "code",
   "execution_count": 26,
   "id": "11ac11e8",
   "metadata": {},
   "outputs": [
    {
     "data": {
      "text/plain": [
       "array([0., 0., 0.])"
      ]
     },
     "execution_count": 26,
     "metadata": {},
     "output_type": "execute_result"
    }
   ],
   "source": [
    "w"
   ]
  },
  {
   "cell_type": "code",
   "execution_count": 27,
   "id": "1e0a7887",
   "metadata": {},
   "outputs": [],
   "source": [
    "new_point=np.array([-1,1,1])\n",
    "summation=np.dot(w,new_point)+bias"
   ]
  },
  {
   "cell_type": "code",
   "execution_count": 29,
   "id": "6791b72e",
   "metadata": {},
   "outputs": [
    {
     "name": "stdout",
     "output_type": "stream",
     "text": [
      "The point [-1  1  1] belongs to class c1\n"
     ]
    }
   ],
   "source": [
    "if summation<=0 :\n",
    "    print(f'The point {new_point} belongs to class c2')\n",
    "else:\n",
    "    print(f'The point {new_point} belongs to class c1')"
   ]
  },
  {
   "cell_type": "code",
   "execution_count": null,
   "id": "5ef226c5",
   "metadata": {},
   "outputs": [],
   "source": []
  }
 ],
 "metadata": {
  "kernelspec": {
   "display_name": "Python 3 (ipykernel)",
   "language": "python",
   "name": "python3"
  },
  "language_info": {
   "codemirror_mode": {
    "name": "ipython",
    "version": 3
   },
   "file_extension": ".py",
   "mimetype": "text/x-python",
   "name": "python",
   "nbconvert_exporter": "python",
   "pygments_lexer": "ipython3",
   "version": "3.10.13"
  }
 },
 "nbformat": 4,
 "nbformat_minor": 5
}
