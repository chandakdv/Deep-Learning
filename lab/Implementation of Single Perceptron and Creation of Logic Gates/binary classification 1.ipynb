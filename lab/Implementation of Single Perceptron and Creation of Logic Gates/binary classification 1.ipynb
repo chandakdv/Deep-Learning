{
 "cells": [
  {
   "cell_type": "code",
   "execution_count": 1,
   "id": "4638bd91",
   "metadata": {},
   "outputs": [],
   "source": [
    "import numpy as np\n",
    "data_points={\n",
    "    'P0': np.array([-1,-1,-1]),\n",
    "    'P1': np.array([-1,-1,1]),\n",
    "    'P2': np.array([-1,1,-1]),\n",
    "    'P3': np.array([-1,1,1]),\n",
    "    'P4': np.array([1,-1,-1]),\n",
    "    'P5': np.array([1,-1,1]),\n",
    "    'P6': np.array([1,1,-1]),\n",
    "    'P7': np.array([1,1,1]),\n",
    "}                                                                                       "
   ]
  },
  {
   "cell_type": "code",
   "execution_count": 2,
   "id": "31c1257e",
   "metadata": {},
   "outputs": [],
   "source": [
    "c1=['P7']\n",
    "c2=['P0','P1','P2','P3','P4','P5','P6']"
   ]
  },
  {
   "cell_type": "code",
   "execution_count": 3,
   "id": "a99729d3",
   "metadata": {},
   "outputs": [
    {
     "name": "stdout",
     "output_type": "stream",
     "text": [
      "[0. 0. 0.]\n"
     ]
    }
   ],
   "source": [
    "weights=np.zeros(len(data_points['P0']))\n",
    "bias=0\n",
    "print(weights)                                                                     "
   ]
  },
  {
   "cell_type": "code",
   "execution_count": 4,
   "id": "7bca1ac9",
   "metadata": {},
   "outputs": [],
   "source": [
    "learning_rate=1"
   ]
  },
  {
   "cell_type": "code",
   "execution_count": 5,
   "id": "ec57ab6f",
   "metadata": {},
   "outputs": [],
   "source": [
    "epochs=100"
   ]
  },
  {
   "cell_type": "code",
   "execution_count": 6,
   "id": "98999953",
   "metadata": {},
   "outputs": [],
   "source": [
    "#perceptron learning algorithm\n",
    "for epoch in range(epochs):\n",
    "    for point in c2:\n",
    "        x=data_points[point]\n",
    "        y=1 #c2 is the positive class\n",
    "        \n",
    "        #calculate the prediction\n",
    "        summetion=np.dot(weights,x)+bias\n",
    "        \n",
    "        #update weights and bias based on the prediction\n",
    "        if summetion <=0:\n",
    "            weights += learning_rate*x\n",
    "            bias += learning_rate"
   ]
  },
  {
   "cell_type": "code",
   "execution_count": 7,
   "id": "7f7f0ac6",
   "metadata": {},
   "outputs": [],
   "source": [
    "new_point=np.array([1,1,1])\n",
    "summetion=np.dot(weights,new_point)+bias"
   ]
  },
  {
   "cell_type": "code",
   "execution_count": 8,
   "id": "00d37e03",
   "metadata": {},
   "outputs": [
    {
     "name": "stdout",
     "output_type": "stream",
     "text": [
      "The new point [1 1 1] belongs to class c1\n"
     ]
    }
   ],
   "source": [
    "if summetion > 0 :\n",
    "    print(f'The new point {new_point} belongs to class C2')\n",
    "else:\n",
    "    print(f'The new point {new_point} belongs to class c1')"
   ]
  },
  {
   "cell_type": "code",
   "execution_count": 9,
   "id": "e7303293",
   "metadata": {},
   "outputs": [],
   "source": [
    "new_point=np.array([-1,-1,-1])\n",
    "summetion=np.dot(weights,new_point)+bias"
   ]
  },
  {
   "cell_type": "code",
   "execution_count": null,
   "id": "08274c58",
   "metadata": {},
   "outputs": [],
   "source": []
  }
 ],
 "metadata": {
  "kernelspec": {
   "display_name": "Python 3 (ipykernel)",
   "language": "python",
   "name": "python3"
  },
  "language_info": {
   "codemirror_mode": {
    "name": "ipython",
    "version": 3
   },
   "file_extension": ".py",
   "mimetype": "text/x-python",
   "name": "python",
   "nbconvert_exporter": "python",
   "pygments_lexer": "ipython3",
   "version": "3.9.12"
  }
 },
 "nbformat": 4,
 "nbformat_minor": 5
}
