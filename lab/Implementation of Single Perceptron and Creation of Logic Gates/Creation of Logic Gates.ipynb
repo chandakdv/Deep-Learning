{
 "cells": [
  {
   "cell_type": "markdown",
   "id": "7d5b007e",
   "metadata": {},
   "source": [
    "## AND gate implementation"
   ]
  },
  {
   "cell_type": "code",
   "execution_count": 1,
   "id": "4ada5b4b",
   "metadata": {},
   "outputs": [
    {
     "name": "stdout",
     "output_type": "stream",
     "text": [
      "AND(0, 1) = 0\n",
      "AND(1, 1) = 1\n",
      "AND(0, 0) = 0\n",
      "AND(1, 0) = 0\n"
     ]
    }
   ],
   "source": [
    "import numpy as np  \n",
    "def activation_function(v): \n",
    "    if v > 0: \n",
    "        return 1\n",
    "    else: \n",
    "        return 0\n",
    "def perceptronModel(x, w, b): \n",
    "    v = np.dot(w, x) + b \n",
    "    y = activation_function(v) \n",
    "    return y \n",
    "def AND_logicFunction(x): \n",
    "    w = np.array([1, 1]) \n",
    "    b = -1\n",
    "    return perceptronModel(x, w, b) \n",
    "test1 = np.array([0, 1]) \n",
    "test2 = np.array([1, 1]) \n",
    "test3 = np.array([0, 0]) \n",
    "test4 = np.array([1, 0]) \n",
    "  \n",
    "print(\"AND({}, {}) = {}\".format(0, 1, AND_logicFunction(test1))) \n",
    "print(\"AND({}, {}) = {}\".format(1, 1, AND_logicFunction(test2))) \n",
    "print(\"AND({}, {}) = {}\".format(0, 0, AND_logicFunction(test3))) \n",
    "print(\"AND({}, {}) = {}\".format(1, 0, AND_logicFunction(test4))) "
   ]
  },
  {
   "cell_type": "markdown",
   "id": "e17d5292",
   "metadata": {},
   "source": [
    "## OR gate implementation"
   ]
  },
  {
   "cell_type": "code",
   "execution_count": 2,
   "id": "216e0a43",
   "metadata": {},
   "outputs": [
    {
     "name": "stdout",
     "output_type": "stream",
     "text": [
      "OR(0, 1) = 1\n",
      "OR(1, 1) = 1\n",
      "OR(0, 0) = 0\n",
      "OR(1, 0) = 1\n"
     ]
    }
   ],
   "source": [
    "import numpy as np  \n",
    "def activation_function(v): \n",
    "    if v >= 0: \n",
    "        return 1\n",
    "    else: \n",
    "        return 0\n",
    "def perceptronModel(x, w, b): \n",
    "    v = np.dot(w, x) + b \n",
    "    y = activation_function(v) \n",
    "    return y \n",
    "def OR_logicFunction(x): \n",
    "    w = np.array([1, 1]) \n",
    "    b = -1\n",
    "    return perceptronModel(x, w, b) \n",
    "test1 = np.array([0, 1]) \n",
    "test2 = np.array([1, 1]) \n",
    "test3 = np.array([0, 0]) \n",
    "test4 = np.array([1, 0]) \n",
    "print(\"OR({}, {}) = {}\".format(0, 1, OR_logicFunction(test1))) \n",
    "print(\"OR({}, {}) = {}\".format(1, 1, OR_logicFunction(test2))) \n",
    "print(\"OR({}, {}) = {}\".format(0, 0, OR_logicFunction(test3))) \n",
    "print(\"OR({}, {}) = {}\".format(1, 0, OR_logicFunction(test4)))"
   ]
  },
  {
   "cell_type": "markdown",
   "id": "2f9471a8",
   "metadata": {},
   "source": [
    "## NOT gate implementation"
   ]
  },
  {
   "cell_type": "code",
   "execution_count": 3,
   "id": "3bd9f370",
   "metadata": {},
   "outputs": [
    {
     "name": "stdout",
     "output_type": "stream",
     "text": [
      "NOT(1) = 0\n",
      "NOT(0) = 1\n"
     ]
    }
   ],
   "source": [
    "import numpy as np \n",
    "def activation_function(v): \n",
    "    if v >= 0: \n",
    "        return 1\n",
    "    else: \n",
    "        return 0\n",
    "def perceptronModel(x, w, b): \n",
    "    v = np.dot(w, x) + b \n",
    "    y = activation_function(v) \n",
    "    return y \n",
    "def NOT_logicFunction(x): \n",
    "    w = -1\n",
    "    b = 0.5\n",
    "    return perceptronModel(x, w, b) \n",
    "test1 = np.array(1) \n",
    "test2 = np.array(0) \n",
    "print(\"NOT({}) = {}\".format(1, NOT_logicFunction(test1))) \n",
    "print(\"NOT({}) = {}\".format(0, NOT_logicFunction(test2)))"
   ]
  },
  {
   "cell_type": "code",
   "execution_count": null,
   "id": "ac5e1eb3",
   "metadata": {},
   "outputs": [],
   "source": []
  }
 ],
 "metadata": {
  "kernelspec": {
   "display_name": "Python 3 (ipykernel)",
   "language": "python",
   "name": "python3"
  },
  "language_info": {
   "codemirror_mode": {
    "name": "ipython",
    "version": 3
   },
   "file_extension": ".py",
   "mimetype": "text/x-python",
   "name": "python",
   "nbconvert_exporter": "python",
   "pygments_lexer": "ipython3",
   "version": "3.9.12"
  }
 },
 "nbformat": 4,
 "nbformat_minor": 5
}
