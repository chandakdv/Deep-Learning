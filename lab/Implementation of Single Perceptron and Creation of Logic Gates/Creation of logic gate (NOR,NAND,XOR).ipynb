{
 "cells": [
  {
   "cell_type": "code",
   "execution_count": 1,
   "id": "f59cc595-463c-420e-bfbf-19799c50f837",
   "metadata": {},
   "outputs": [],
   "source": [
    "## NOR NAND XOR"
   ]
  },
  {
   "cell_type": "code",
   "execution_count": 2,
   "id": "e8918560-37be-4f25-8b39-669924fcc459",
   "metadata": {},
   "outputs": [
    {
     "name": "stdout",
     "output_type": "stream",
     "text": [
      "NOR(0, 1) = 0\n",
      "NOR(1, 1) = 0\n",
      "NOR(0, 0) = 1\n",
      "NOR(1, 0) = 0\n"
     ]
    }
   ],
   "source": [
    "import numpy as np \n",
    "def unitStep(v): \n",
    "\tif v >= 0: \n",
    "\t\treturn 1\n",
    "\telse: \n",
    "\t\treturn 0\n",
    "        \n",
    "def perceptronModel(x, w, b): \n",
    "\tv = np.dot(w, x) + b \n",
    "\ty = unitStep(v) \n",
    "\treturn y \n",
    "\n",
    "def NOT_logicFunction(x): \n",
    "\twNOT = -1\n",
    "\tbNOT = 0.5\n",
    "\treturn perceptronModel(x, wNOT, bNOT) \n",
    " \n",
    "def OR_logicFunction(x): \n",
    "\tw = np.array([1, 1]) \n",
    "\tbOR = -0.5\n",
    "\treturn perceptronModel(x, w, bOR) \n",
    "\n",
    "def NOR_logicFunction(x): \n",
    "\toutput_OR = OR_logicFunction(x) \n",
    "\toutput_NOT = NOT_logicFunction(output_OR) \n",
    "\treturn output_NOT \n",
    "\n",
    "test1 = np.array([0, 1]) \n",
    "test2 = np.array([1, 1]) \n",
    "test3 = np.array([0, 0]) \n",
    "test4 = np.array([1, 0]) \n",
    "\n",
    "print(\"NOR({}, {}) = {}\".format(0, 1, NOR_logicFunction(test1))) \n",
    "print(\"NOR({}, {}) = {}\".format(1, 1, NOR_logicFunction(test2))) \n",
    "print(\"NOR({}, {}) = {}\".format(0, 0, NOR_logicFunction(test3))) \n",
    "print(\"NOR({}, {}) = {}\".format(1, 0, NOR_logicFunction(test4))) "
   ]
  },
  {
   "cell_type": "code",
   "execution_count": 3,
   "id": "1c879c73-0a19-46f6-971c-edc28527476f",
   "metadata": {},
   "outputs": [
    {
     "name": "stdout",
     "output_type": "stream",
     "text": [
      "NAND(0, 1) = 1\n",
      "NAND(1, 1) = 0\n",
      "NAND(0, 0) = 1\n",
      "NAND(1, 0) = 1\n"
     ]
    }
   ],
   "source": [
    "import numpy as np \n",
    "def unitStep(v): \n",
    "\tif v >= 0: \n",
    "\t\treturn 1\n",
    "\telse: \n",
    "\t\treturn 0\n",
    "\n",
    "def perceptronModel(x, w, b): \n",
    "\tv = np.dot(w, x) + b \n",
    "\ty = unitStep(v) \n",
    "\treturn y \n",
    " \n",
    "def NOT_logicFunction(x): \n",
    "\twNOT = -1\n",
    "\tbNOT = 0.5\n",
    "\treturn perceptronModel(x, wNOT, bNOT) \n",
    " \n",
    "def AND_logicFunction(x): \n",
    "\tw = np.array([1, 1]) \n",
    "\tbAND = -1.5\n",
    "\treturn perceptronModel(x, w, bAND) \n",
    "\n",
    "def NAND_logicFunction(x): \n",
    "\toutput_AND = AND_logicFunction(x) \n",
    "\toutput_NOT = NOT_logicFunction(output_AND) \n",
    "\treturn output_NOT \n",
    " \n",
    "test1 = np.array([0, 1]) \n",
    "test2 = np.array([1, 1]) \n",
    "test3 = np.array([0, 0]) \n",
    "test4 = np.array([1, 0]) \n",
    "\n",
    "print(\"NAND({}, {}) = {}\".format(0, 1, NAND_logicFunction(test1))) \n",
    "print(\"NAND({}, {}) = {}\".format(1, 1, NAND_logicFunction(test2))) \n",
    "print(\"NAND({}, {}) = {}\".format(0, 0, NAND_logicFunction(test3))) \n",
    "print(\"NAND({}, {}) = {}\".format(1, 0, NAND_logicFunction(test4))) \n"
   ]
  },
  {
   "cell_type": "code",
   "execution_count": 5,
   "id": "797696d8-7588-4cdf-9121-294500ed4053",
   "metadata": {},
   "outputs": [],
   "source": [
    "## XOR gate implementation"
   ]
  },
  {
   "cell_type": "code",
   "execution_count": 4,
   "id": "35a75a6c-fc00-47c3-997b-976e58836ea8",
   "metadata": {},
   "outputs": [
    {
     "name": "stdout",
     "output_type": "stream",
     "text": [
      "XOR(0, 1) = 1\n",
      "XOR(1, 1) = 0\n",
      "XOR(0, 0) = 0\n",
      "XOR(1, 0) = 1\n"
     ]
    }
   ],
   "source": [
    "import numpy as np\n",
    "def unitStep(v):\n",
    "\tif v >= 0:\n",
    "\t\treturn 1\n",
    "\telse:\n",
    "\t\treturn 0\n",
    "def perceptronModel(x, w, b):\n",
    "\tv = np.dot(w, x) + b\n",
    "\ty = unitStep(v)\n",
    "\treturn y\n",
    "\n",
    "def NOT_logicFunction(x):\n",
    "\twNOT = -1\n",
    "\tbNOT = 0.5\n",
    "\treturn perceptronModel(x, wNOT, bNOT)\n",
    "\n",
    "def AND_logicFunction(x):\n",
    "\tw = np.array([1, 1])\n",
    "\tbAND = -1.5\n",
    "\treturn perceptronModel(x, w, bAND)\n",
    "\n",
    "def OR_logicFunction(x):\n",
    "\tw = np.array([1, 1])\n",
    "\tbOR = -0.5\n",
    "\treturn perceptronModel(x, w, bOR)\n",
    "\n",
    "def XOR_logicFunction(x):\n",
    "\ty1 = AND_logicFunction(x)\n",
    "\ty2 = OR_logicFunction(x)\n",
    "\ty3 = NOT_logicFunction(y1)\n",
    "\tfinal_x = np.array([y2, y3])\n",
    "\tfinalOutput = AND_logicFunction(final_x)\n",
    "\treturn finalOutput\n",
    "\n",
    "test1 = np.array([0, 1])\n",
    "test2 = np.array([1, 1])\n",
    "test3 = np.array([0, 0])\n",
    "test4 = np.array([1, 0])\n",
    "\n",
    "print(\"XOR({}, {}) = {}\".format(0, 1, XOR_logicFunction(test1)))\n",
    "print(\"XOR({}, {}) = {}\".format(1, 1, XOR_logicFunction(test2)))\n",
    "print(\"XOR({}, {}) = {}\".format(0, 0, XOR_logicFunction(test3)))\n",
    "print(\"XOR({}, {}) = {}\".format(1, 0, XOR_logicFunction(test4)))\n"
   ]
  },
  {
   "cell_type": "code",
   "execution_count": null,
   "id": "cf2d52be-5c25-47c2-ade1-c651948cb7f4",
   "metadata": {},
   "outputs": [],
   "source": []
  }
 ],
 "metadata": {
  "kernelspec": {
   "display_name": "Python 3 (ipykernel)",
   "language": "python",
   "name": "python3"
  },
  "language_info": {
   "codemirror_mode": {
    "name": "ipython",
    "version": 3
   },
   "file_extension": ".py",
   "mimetype": "text/x-python",
   "name": "python",
   "nbconvert_exporter": "python",
   "pygments_lexer": "ipython3",
   "version": "3.10.13"
  }
 },
 "nbformat": 4,
 "nbformat_minor": 5
}
